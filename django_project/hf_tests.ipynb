{
 "cells": [
  {
   "cell_type": "code",
   "execution_count": 1,
   "metadata": {},
   "outputs": [],
   "source": [
    "import os\n",
    "\n",
    "# from transformers import Speech2TextProcessor, Speech2TextForConditionalGeneration\n",
    "from mp3.api.common import (initialize_model_processor_S2T,\n",
    "                            initialize_model_tokenizer_SENT,\n",
    "                            load_audio_file,\n",
    "                            analyze_sentiment,\n",
    "                            transcript_file)\n",
    "\n",
    "S2T_MODEL = model_name = \"facebook/s2t-small-librispeech-asr\"\n",
    "S2T_PROCESSOR = processor_name = \"facebook/s2t-small-librispeech-asr\"\n",
    "\n",
    "SENT_MODEL = \"cardiffnlp/twitter-roberta-base-sentiment\"\n",
    "SENT_TKNZR =  \"cardiffnlp/twitter-roberta-base-sentiment\""
   ]
  },
  {
   "cell_type": "code",
   "execution_count": 2,
   "metadata": {},
   "outputs": [],
   "source": [
    "(s2t_model, s2t_processor) = initialize_model_processor_S2T(model_name=S2T_MODEL,\n",
    "                                                    processor_name=S2T_PROCESSOR)\n"
   ]
  },
  {
   "cell_type": "code",
   "execution_count": 3,
   "metadata": {},
   "outputs": [],
   "source": [
    "(sent_model, sent_tokenizer) = initialize_model_tokenizer_SENT(model_name=SENT_MODEL,\n",
    "                                                               tokenizer_name=SENT_TKNZR)\n"
   ]
  },
  {
   "cell_type": "code",
   "execution_count": 4,
   "metadata": {},
   "outputs": [
    {
     "name": "stderr",
     "output_type": "stream",
     "text": [
      "/home/shepard/personal/mp3.ai-API/venv/lib/python3.10/site-packages/transformers/models/speech_to_text/modeling_speech_to_text.py:558: UserWarning: __floordiv__ is deprecated, and its behavior will change in a future version of pytorch. It currently rounds toward 0 (like the 'trunc' function NOT 'floor'). This results in incorrect rounding for negative values. To keep the current behavior, use torch.div(a, b, rounding_mode='trunc'), or for actual floor division, use torch.div(a, b, rounding_mode='floor').\n",
      "  input_lengths = (input_lengths - 1) // 2 + 1\n"
     ]
    },
    {
     "name": "stdout",
     "output_type": "stream",
     "text": [
      "mister quilter is the apostle of the middle classes and we are glad to welcome his gospel\n",
      "[0.00155445 0.03339985 0.96504587]\n"
     ]
    }
   ],
   "source": [
    "SAMPLE_DATA_ROOT = './audio_samples'\n",
    "\n",
    "filename = os.path.join(SAMPLE_DATA_ROOT, 'sample_0.flac')\n",
    "data, sampling_rate = load_audio_file(filename)\n",
    "\n",
    "data = data.reshape([-1])\n",
    "\n",
    "transcript = transcript_file(data=data,\n",
    "                             sampling_rate=sampling_rate,\n",
    "                             model=s2t_model,\n",
    "                             processor=s2t_processor)\n",
    "\n",
    "transcript = transcript[0]\n",
    "\n",
    "print(transcript)\n",
    "\n",
    "sentence = transcript\n",
    "\n",
    "sentiment = analyze_sentiment(sentence=sentence,\n",
    "                              model=sent_model,\n",
    "                              tokenizer=sent_tokenizer)\n",
    "\n",
    "print(sentiment)"
   ]
  },
  {
   "cell_type": "code",
   "execution_count": 1,
   "metadata": {},
   "outputs": [
    {
     "data": {
      "text/plain": [
       "{'testing': 3, 'device': 1}"
      ]
     },
     "execution_count": 1,
     "metadata": {},
     "output_type": "execute_result"
    }
   ],
   "source": [
    "from mp3.api.common import (split_words, get_word_freq)\n",
    "\n",
    "words = 'testing, device'\n",
    "word_list = split_words(words = words)\n",
    "\n",
    "transcript = \"testing the testing device for testing purposes\"\n",
    "\n",
    "get_word_freq(word_list = word_list, sentence = transcript)"
   ]
  },
  {
   "cell_type": "code",
   "execution_count": null,
   "metadata": {},
   "outputs": [],
   "source": []
  }
 ],
 "metadata": {
  "interpreter": {
   "hash": "9d75acb95588923971fcdc664c43731cfc2e28c87b62b6583e0e9b4352c0ae9b"
  },
  "kernelspec": {
   "display_name": "Python 3.8.10 ('venv')",
   "language": "python",
   "name": "python3"
  },
  "language_info": {
   "codemirror_mode": {
    "name": "ipython",
    "version": 3
   },
   "file_extension": ".py",
   "mimetype": "text/x-python",
   "name": "python",
   "nbconvert_exporter": "python",
   "pygments_lexer": "ipython3",
   "version": "3.10.4"
  },
  "orig_nbformat": 4
 },
 "nbformat": 4,
 "nbformat_minor": 2
}
