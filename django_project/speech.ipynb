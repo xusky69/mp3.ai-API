{
 "cells": [
  {
   "cell_type": "code",
   "execution_count": 71,
   "metadata": {},
   "outputs": [],
   "source": [
    "import json\n",
    "import io\n",
    "import os\n",
    "import wave\n",
    "from pydub import AudioSegment\n",
    "from vosk import Model, KaldiRecognizer, SetLogLevel\n",
    "\n",
    "from mp3.common import (initialize_model_tokenizer_SENT, analyze_sentiment)\n",
    "\n",
    "SetLogLevel(-1)\n",
    "\n",
    "VOSK_MODEL = \"vosk/vosk-model-small-en-us-0.15\"\n",
    "SENT_MODEL = \"cardiffnlp/twitter-roberta-base-sentiment\"\n",
    "SENT_TKNZR =  \"cardiffnlp/twitter-roberta-base-sentiment\""
   ]
  },
  {
   "cell_type": "code",
   "execution_count": 88,
   "metadata": {},
   "outputs": [],
   "source": [
    "def initialize_model_VOSK(model_path: str) -> Model:\n",
    "    \n",
    "    model = Model(model_path)\n",
    "\n",
    "    return model\n",
    "\n",
    "def mp3_to_wav(source:str, skip: int = 0, cut_at: int =30):\n",
    "    '''\n",
    "    based from \n",
    "    towardsdatascience.com/transcribe-large-audio-files-offline-with-vosk-a77ee8f7aa28\n",
    "    '''\n",
    "    \n",
    "    if skip >= cut_at:\n",
    "        assert False, \"'cut_at' vakue must be greater thank 'skip' value\"\n",
    "\n",
    "    sound = AudioSegment.from_mp3(source) # load source\n",
    "    sound = sound.set_channels(1) # mono\n",
    "    sound = sound.set_frame_rate(16000) # 16000Hz\n",
    "    \n",
    "    sound = sound[skip*1000:cut_at*1000]\n",
    "    # output_path = os.path.splitext(source)[0]+\".wav\"\n",
    "    \n",
    "    audio = io.BytesIO()\n",
    "    sound.export(audio, format=\"wav\")\n",
    "    \n",
    "    return audio\n",
    "\n",
    "# def mp3_to_wav(source:str, skip: int = 0, cut_at: int = 60):\n",
    "#     '''\n",
    "#     based from \n",
    "#     towardsdatascience.com/transcribe-large-audio-files-offline-with-vosk-a77ee8f7aa28\n",
    "#     '''\n",
    "    \n",
    "#     if skip >= cut_at:\n",
    "#         assert False, \"'cut_at' vakue must be greater thank 'skip' value\"\n",
    "\n",
    "#     sound = AudioSegment.from_mp3(source) # load source\n",
    "#     sound = sound.set_channels(1) # mono\n",
    "#     # sound = sound.set_frame_rate(16000) # 16000Hz\n",
    "    \n",
    "#     sound = sound[skip*1000:cut_at*1000]\n",
    "#     output_path = os.path.splitext(source)[0]+\".wav\"\n",
    "#     sound.export(output_path, format=\"wav\")\n",
    "    \n",
    "#     return output_path"
   ]
  },
  {
   "cell_type": "code",
   "execution_count": 83,
   "metadata": {},
   "outputs": [],
   "source": [
    "model = initialize_model_VOSK(model_path = VOSK_MODEL)\n",
    "\n",
    "sent_model, sent_tokenizer = initialize_model_tokenizer_SENT(model_name=SENT_MODEL,\n",
    "                                                               tokenizer_name=SENT_TKNZR)"
   ]
  },
  {
   "cell_type": "code",
   "execution_count": 96,
   "metadata": {},
   "outputs": [
    {
     "name": "stdout",
     "output_type": "stream",
     "text": [
      "[0.0123186  0.66499496 0.32268637]\n"
     ]
    }
   ],
   "source": [
    "# wav_path = mp3_to_wav('Puppy.mp3', skip=0, cut_at=60)\n",
    "# # wav = mp3_to_wav('Puppy.mp3', skip=0, cut_at=60)\n",
    "# wf = wave.open('Puppy.wav', \"rb\")\n",
    "\n",
    "wf = mp3_to_wav('Puppy.mp3', skip=0, cut_at=60)\n",
    "wf = wave.open(wf, \"rb\")\n",
    "\n",
    "rec = KaldiRecognizer(model, wf.getframerate())\n",
    "rec.SetWords(True)\n",
    "rec.SetPartialWords(True)\n",
    "\n",
    "while True:\n",
    "    data = wf.readframes(4000)\n",
    "    if len(data) == 0:\n",
    "        break\n",
    "    if rec.AcceptWaveform(data):\n",
    "        pass\n",
    "    else:\n",
    "        pass\n",
    "\n",
    "result = json.loads(rec.FinalResult())\n",
    "\n",
    "sentence = result['text']\n",
    "sentiment = analyze_sentiment(sentence=sentence,\n",
    "                              model=sent_model,\n",
    "                              tokenizer=sent_tokenizer)\n",
    "\n",
    "print(sentiment)"
   ]
  },
  {
   "cell_type": "code",
   "execution_count": null,
   "metadata": {},
   "outputs": [],
   "source": []
  }
 ],
 "metadata": {
  "interpreter": {
   "hash": "9d75acb95588923971fcdc664c43731cfc2e28c87b62b6583e0e9b4352c0ae9b"
  },
  "kernelspec": {
   "display_name": "Python 3.10.4 ('venv': venv)",
   "language": "python",
   "name": "python3"
  },
  "language_info": {
   "codemirror_mode": {
    "name": "ipython",
    "version": 3
   },
   "file_extension": ".py",
   "mimetype": "text/x-python",
   "name": "python",
   "nbconvert_exporter": "python",
   "pygments_lexer": "ipython3",
   "version": "3.10.4"
  },
  "orig_nbformat": 4
 },
 "nbformat": 4,
 "nbformat_minor": 2
}
