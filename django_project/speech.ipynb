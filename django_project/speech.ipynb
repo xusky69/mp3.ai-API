{
 "cells": [
  {
   "cell_type": "code",
   "execution_count": 3,
   "metadata": {},
   "outputs": [],
   "source": [
    "from vosk import Model, KaldiRecognizer, SetLogLevel"
   ]
  },
  {
   "cell_type": "code",
   "execution_count": 4,
   "metadata": {},
   "outputs": [],
   "source": [
    "model_path = \"models/vosk-model-small-en-us-0.15\"\n",
    "audio_filename = \"audio/speech_recognition_systems.wav\""
   ]
  },
  {
   "cell_type": "code",
   "execution_count": 5,
   "metadata": {},
   "outputs": [
    {
     "name": "stderr",
     "output_type": "stream",
     "text": [
      "ERROR (VoskAPI:Model():model.cc:122) Folder 'models/vosk-model-en-us-0.21' does not contain model files. Make sure you specified the model path properly in Model constructor. If you are not sure about relative path, use absolute path specification.\n"
     ]
    },
    {
     "ename": "Exception",
     "evalue": "Failed to create a model",
     "output_type": "error",
     "traceback": [
      "\u001b[0;31m---------------------------------------------------------------------------\u001b[0m",
      "\u001b[0;31mException\u001b[0m                                 Traceback (most recent call last)",
      "\u001b[1;32m/home/shepard/personal/mp3.ai-API/django_project/speech.ipynb Cell 3'\u001b[0m in \u001b[0;36m<cell line: 1>\u001b[0;34m()\u001b[0m\n\u001b[0;32m----> <a href='vscode-notebook-cell:/home/shepard/personal/mp3.ai-API/django_project/speech.ipynb#ch0000002?line=0'>1</a>\u001b[0m model \u001b[39m=\u001b[39m Model(model_path)\n",
      "File \u001b[0;32m~/personal/mp3.ai-API/venv/lib/python3.10/site-packages/vosk/__init__.py:29\u001b[0m, in \u001b[0;36mModel.__init__\u001b[0;34m(self, model_path)\u001b[0m\n\u001b[1;32m     <a href='file:///home/shepard/personal/mp3.ai-API/venv/lib/python3.10/site-packages/vosk/__init__.py?line=25'>26</a>\u001b[0m \u001b[39mself\u001b[39m\u001b[39m.\u001b[39m_handle \u001b[39m=\u001b[39m _c\u001b[39m.\u001b[39mvosk_model_new(model_path\u001b[39m.\u001b[39mencode(\u001b[39m'\u001b[39m\u001b[39mutf-8\u001b[39m\u001b[39m'\u001b[39m))\n\u001b[1;32m     <a href='file:///home/shepard/personal/mp3.ai-API/venv/lib/python3.10/site-packages/vosk/__init__.py?line=27'>28</a>\u001b[0m \u001b[39mif\u001b[39;00m \u001b[39mself\u001b[39m\u001b[39m.\u001b[39m_handle \u001b[39m==\u001b[39m _ffi\u001b[39m.\u001b[39mNULL:\n\u001b[0;32m---> <a href='file:///home/shepard/personal/mp3.ai-API/venv/lib/python3.10/site-packages/vosk/__init__.py?line=28'>29</a>\u001b[0m     \u001b[39mraise\u001b[39;00m \u001b[39mException\u001b[39;00m(\u001b[39m\"\u001b[39m\u001b[39mFailed to create a model\u001b[39m\u001b[39m\"\u001b[39m)\n",
      "\u001b[0;31mException\u001b[0m: Failed to create a model"
     ]
    }
   ],
   "source": [
    "model = Model(model_path)"
   ]
  },
  {
   "cell_type": "code",
   "execution_count": null,
   "metadata": {},
   "outputs": [],
   "source": []
  }
 ],
 "metadata": {
  "interpreter": {
   "hash": "9d75acb95588923971fcdc664c43731cfc2e28c87b62b6583e0e9b4352c0ae9b"
  },
  "kernelspec": {
   "display_name": "Python 3.10.4 ('venv': venv)",
   "language": "python",
   "name": "python3"
  },
  "language_info": {
   "codemirror_mode": {
    "name": "ipython",
    "version": 3
   },
   "file_extension": ".py",
   "mimetype": "text/x-python",
   "name": "python",
   "nbconvert_exporter": "python",
   "pygments_lexer": "ipython3",
   "version": "3.10.4"
  },
  "orig_nbformat": 4
 },
 "nbformat": 4,
 "nbformat_minor": 2
}
