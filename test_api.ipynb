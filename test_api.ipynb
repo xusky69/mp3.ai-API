{
 "cells": [
  {
   "cell_type": "code",
   "execution_count": 68,
   "metadata": {},
   "outputs": [],
   "source": [
    "### https://djoser.readthedocs.io/en/latest/sample_usage.html\n",
    "### https://djoser.readthedocs.io/en/latest/base_endpoints.html\n",
    "\n",
    "import json\n",
    "import requests\n",
    "from requests.auth import HTTPBasicAuth\n",
    "\n",
    "API_ROOT = 'http://localhost:8000/'"
   ]
  },
  {
   "cell_type": "code",
   "execution_count": 80,
   "metadata": {},
   "outputs": [],
   "source": [
    "data = {\"username\": \"testuser\",\n",
    "        \"password\": \"alpine123\"}\n",
    "\n",
    "res = requests.post(API_ROOT + 'auth/users/', data=data)\n",
    "res = requests.post(API_ROOT + 'auth/token/login/', data=data)\n",
    "token = json.loads(res.text)['auth_token']"
   ]
  },
  {
   "cell_type": "code",
   "execution_count": 81,
   "metadata": {},
   "outputs": [],
   "source": [
    "res = requests.get('http://localhost:8000/api/v1/recordings/', headers={\n",
    "    \"Authorization\": f\"Token {token}\"\n",
    "})"
   ]
  }
 ],
 "metadata": {
  "interpreter": {
   "hash": "9d75acb95588923971fcdc664c43731cfc2e28c87b62b6583e0e9b4352c0ae9b"
  },
  "kernelspec": {
   "display_name": "Python 3.10.4 ('venv': venv)",
   "language": "python",
   "name": "python3"
  },
  "language_info": {
   "codemirror_mode": {
    "name": "ipython",
    "version": 3
   },
   "file_extension": ".py",
   "mimetype": "text/x-python",
   "name": "python",
   "nbconvert_exporter": "python",
   "pygments_lexer": "ipython3",
   "version": "3.10.4"
  },
  "orig_nbformat": 4
 },
 "nbformat": 4,
 "nbformat_minor": 2
}
