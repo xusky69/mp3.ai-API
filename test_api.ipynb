{
 "cells": [
  {
   "cell_type": "code",
   "execution_count": 6,
   "metadata": {},
   "outputs": [],
   "source": [
    "### https://djoser.readthedocs.io/en/latest/sample_usage.html\n",
    "### https://djoser.readthedocs.io/en/latest/base_endpoints.html\n",
    "\n",
    "import pprint\n",
    "import json\n",
    "import requests\n",
    "from requests.auth import HTTPBasicAuth\n",
    "\n",
    "API_ROOT = 'http://localhost:8000/'"
   ]
  },
  {
   "cell_type": "code",
   "execution_count": 7,
   "metadata": {},
   "outputs": [
    {
     "name": "stdout",
     "output_type": "stream",
     "text": [
      "Creating user\n",
      "Retrieving token\n",
      "db21dbd5a44c16e399b3d58225d63dcb8b8bc385\n",
      "Sending test data\n",
      "{'audio_file': 'http://localhost:8000/audio_files/puppy_mB1w87V.mp3',\n",
      " 'creation_date': '2022-05-12T10:32:08.861458-05:00',\n",
      " 'get_timestamps': True,\n",
      " 'last_updated': '2022-05-12T10:32:08.868091-05:00',\n",
      " 'name': 'Puppies',\n",
      " 'sentiment_negative': 0.0,\n",
      " 'sentiment_neutral': 0.0,\n",
      " 'sentiment_positive': 0.0,\n",
      " 'timestamps': '',\n",
      " 'transcript': '',\n",
      " 'user': 'testuser',\n",
      " 'uuid': 'b8fa1110-9a6d-4b93-b7b7-88b5bc357f97',\n",
      " 'word_freqs': '',\n",
      " 'words': '[\"puppy\", \"puppies\", \"mother\"]'}\n",
      "deleting user\n",
      "execution finished\n"
     ]
    }
   ],
   "source": [
    "data = {\"username\": \"testuser\",\n",
    "        \"password\": \"alpine123\"}\n",
    "\n",
    "# create user\n",
    "print('Creating user')\n",
    "res = requests.post(API_ROOT + 'auth/users/', data=data)\n",
    "\n",
    "# log in & retrieve token\n",
    "print('Retrieving token')\n",
    "res = requests.post(API_ROOT + 'auth/token/login/', data=data)\n",
    "token = json.loads(res.text)['auth_token']\n",
    "auth_header = {\"Authorization\": f\"Token {token}\"}\n",
    "print(token)\n",
    "\n",
    "# test get request\n",
    "# res = requests.get(API_ROOT + 'api/v1/recordings/', headers=auth_header)\n",
    "# print(res.text)\n",
    "\n",
    "# test post request\n",
    "print('Sending test data')\n",
    "post_data = {\n",
    "    \"name\": \"Puppies\",\n",
    "    \"get_timestamps\": True,\n",
    "    \"words\": \"puppy, puppies, mother\"\n",
    "}\n",
    "\n",
    "files = {\"audio_file\": open('./audio_samples/puppy.mp3', 'rb')}\n",
    "\n",
    "res = requests.post(API_ROOT + 'api/v1/recordings/',\n",
    "                    data=post_data, \n",
    "                    headers=auth_header, \n",
    "                    files=files\n",
    "                    )\n",
    "\n",
    "try:\n",
    "    pprint.pprint(json.loads(res.text))\n",
    "except AttributeError:\n",
    "    print(res.status_code)\n",
    "\n",
    "# delete user\n",
    "print('deleting user')\n",
    "res = requests.delete(API_ROOT + 'auth/users/me/', headers=auth_header, data={'current_password': data['password']})\n",
    "print(\"execution finished\")"
   ]
  },
  {
   "cell_type": "code",
   "execution_count": 4,
   "metadata": {},
   "outputs": [
    {
     "name": "stdout",
     "output_type": "stream",
     "text": [
      "Creating user\n"
     ]
    }
   ],
   "source": [
    "data = {\"username\": \"testuser\",\n",
    "        \"password\": \"alpine123\"}\n",
    "\n",
    "# create user\n",
    "print('Creating user')\n",
    "res = requests.post(API_ROOT + 'auth/users/', data=data)\n"
   ]
  },
  {
   "cell_type": "code",
   "execution_count": 5,
   "metadata": {},
   "outputs": [
    {
     "data": {
      "text/plain": [
       "400"
      ]
     },
     "execution_count": 5,
     "metadata": {},
     "output_type": "execute_result"
    }
   ],
   "source": [
    "res.status_code"
   ]
  },
  {
   "cell_type": "code",
   "execution_count": null,
   "metadata": {},
   "outputs": [],
   "source": []
  }
 ],
 "metadata": {
  "interpreter": {
   "hash": "9d75acb95588923971fcdc664c43731cfc2e28c87b62b6583e0e9b4352c0ae9b"
  },
  "kernelspec": {
   "display_name": "Python 3.10.4 ('venv': venv)",
   "language": "python",
   "name": "python3"
  },
  "language_info": {
   "codemirror_mode": {
    "name": "ipython",
    "version": 3
   },
   "file_extension": ".py",
   "mimetype": "text/x-python",
   "name": "python",
   "nbconvert_exporter": "python",
   "pygments_lexer": "ipython3",
   "version": "3.10.4"
  },
  "orig_nbformat": 4
 },
 "nbformat": 4,
 "nbformat_minor": 2
}
